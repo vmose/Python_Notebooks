{
 "cells": [
  {
   "cell_type": "code",
   "execution_count": 119,
   "id": "2c285424-19d2-41cc-bbcd-27d33d2cce3d",
   "metadata": {},
   "outputs": [],
   "source": [
    "class dog:\n",
    "    #class attribute\n",
    "    species=\"Canis familiaris\"\n",
    "    def __init__(self,name,age,breed):\n",
    "        self.name=name\n",
    "        self.age=age\n",
    "        self.breed=breed\n",
    "        \n",
    "    def __str__(self):\n",
    "        return(f\"{self.name} is a {self.age} year old {self.breed}\")\n",
    "    \n",
    "    def noise(self,sound):\n",
    "        return(f\"{self.name} says {sound}\")"
   ]
  },
  {
   "cell_type": "code",
   "execution_count": 45,
   "id": "4c44ae23-0fe0-44f8-9ee4-0c19be30d810",
   "metadata": {},
   "outputs": [],
   "source": [
    "Cindy=dog('Cindy',5,'jack russel terrier')\n",
    "lola=dog('lola',3.5,'golden retriever')"
   ]
  },
  {
   "cell_type": "code",
   "execution_count": 51,
   "id": "71893a30-1476-4500-a5ab-d6442adb1e4e",
   "metadata": {},
   "outputs": [
    {
     "data": {
      "text/plain": [
       "'golden retriever'"
      ]
     },
     "execution_count": 51,
     "metadata": {},
     "output_type": "execute_result"
    }
   ],
   "source": [
    "lola.breed"
   ]
  },
  {
   "cell_type": "code",
   "execution_count": 52,
   "id": "3eaeff88-58a6-42cf-827c-1c00c85cbadc",
   "metadata": {},
   "outputs": [
    {
     "data": {
      "text/plain": [
       "'Canis familiaris'"
      ]
     },
     "execution_count": 52,
     "metadata": {},
     "output_type": "execute_result"
    }
   ],
   "source": [
    "lola.species"
   ]
  },
  {
   "cell_type": "code",
   "execution_count": 53,
   "id": "b7c31d7b-e211-49cd-b704-c00d02ab24a4",
   "metadata": {},
   "outputs": [
    {
     "data": {
      "text/plain": [
       "3.5"
      ]
     },
     "execution_count": 53,
     "metadata": {},
     "output_type": "execute_result"
    }
   ],
   "source": [
    "lola.age"
   ]
  },
  {
   "cell_type": "code",
   "execution_count": 54,
   "id": "41ab34dd-3f22-4a25-a80b-b1bacac791de",
   "metadata": {},
   "outputs": [
    {
     "data": {
      "text/plain": [
       "4"
      ]
     },
     "execution_count": 54,
     "metadata": {},
     "output_type": "execute_result"
    }
   ],
   "source": [
    "lola.age = 4\n",
    "lola.age"
   ]
  },
  {
   "cell_type": "code",
   "execution_count": 103,
   "id": "5dd95f43-67fa-46ff-aa94-6759f0e38a14",
   "metadata": {},
   "outputs": [],
   "source": [
    "class Doggy:\n",
    "    species= 'Draconis Maplefeist'\n",
    "    def __init__(self,name,age):\n",
    "        self.name=name\n",
    "        self.age=age\n",
    "        \n",
    "    # Instance method\n",
    "    def description(self):\n",
    "        return f\"{self.name} is {self.age} years old\"\n",
    "    \n",
    "    def noise(self,sound):\n",
    "        return f\"{self.name} makes a {sound} noise\""
   ]
  },
  {
   "cell_type": "code",
   "execution_count": 75,
   "id": "2e36b0ef-1b8c-4e7d-8408-bd6d41bc0b8d",
   "metadata": {},
   "outputs": [],
   "source": [
    "BobaFett=Doggy('BobaFett',8)"
   ]
  },
  {
   "cell_type": "code",
   "execution_count": 76,
   "id": "68e971dc-2464-4baa-8954-d12525f05716",
   "metadata": {},
   "outputs": [
    {
     "data": {
      "text/plain": [
       "'BobaFett makes a barking noise'"
      ]
     },
     "execution_count": 76,
     "metadata": {},
     "output_type": "execute_result"
    }
   ],
   "source": [
    "BobaFett.noise('barking')"
   ]
  },
  {
   "cell_type": "code",
   "execution_count": 135,
   "id": "ed515e1b-d6cf-4ed0-ae37-b3bca6f04948",
   "metadata": {},
   "outputs": [],
   "source": [
    "# using '__str__' instead of 'description'\n",
    "class Doggy:\n",
    "    species= 'Draconis Maplefeist'\n",
    "    def __init__(self,name,age):\n",
    "        self.name=name\n",
    "        self.age=age\n",
    "        \n",
    "    # Instance method\n",
    "    def __str__(self):\n",
    "        return f\"{self.name} is {self.age} years old\"\n",
    "    \n",
    "    def noise(self,sound):\n",
    "        return f\"{self.name} makes a {sound} noise\""
   ]
  },
  {
   "cell_type": "code",
   "execution_count": 80,
   "id": "5684186a-b6bb-4d0c-996e-ab8255f04ac3",
   "metadata": {},
   "outputs": [
    {
     "name": "stdout",
     "output_type": "stream",
     "text": [
      "Murife is 2 years old\n"
     ]
    }
   ],
   "source": [
    "Murife=Doggy('Murife',2)\n",
    "print(Murife)"
   ]
  },
  {
   "cell_type": "code",
   "execution_count": 82,
   "id": "d35ec269-b9f2-489b-8d40-9c9b6b64564d",
   "metadata": {},
   "outputs": [],
   "source": [
    "class Car:\n",
    "    def __init__(self,color,mileage):\n",
    "        self.color=color\n",
    "        self.mileage=mileage\n",
    "        \n",
    "    def __str__(self):\n",
    "        return f\"My {self.color} car has {self.mileage} miles\""
   ]
  },
  {
   "cell_type": "code",
   "execution_count": 83,
   "id": "ad860c33-10ac-4978-9f5a-03cc88f59e90",
   "metadata": {},
   "outputs": [
    {
     "name": "stdout",
     "output_type": "stream",
     "text": [
      "My Blue car has 20000 miles\n"
     ]
    }
   ],
   "source": [
    "#a blue car with 20,000 miles and a red car with 30,000 miles\n",
    "Eleanor = Car('Blue',20000)\n",
    "print(Eleanor)"
   ]
  },
  {
   "cell_type": "code",
   "execution_count": 84,
   "id": "8791b708-43a0-421e-8ad5-3d45ba29fb82",
   "metadata": {},
   "outputs": [
    {
     "name": "stdout",
     "output_type": "stream",
     "text": [
      "My Red car has 30000 miles\n"
     ]
    }
   ],
   "source": [
    "Ares = Car('Red',30000)\n",
    "print(Ares)"
   ]
  },
  {
   "cell_type": "code",
   "execution_count": 87,
   "id": "b021ae73-22a5-46f2-bdc6-1b6de743b469",
   "metadata": {},
   "outputs": [
    {
     "name": "stdout",
     "output_type": "stream",
     "text": [
      "My Blue has 20,000 miles\n",
      "My Red has 30,000 miles\n"
     ]
    }
   ],
   "source": [
    "for car in (Eleanor, Ares):\n",
    "    print(f\"My {car.color} has {car.mileage:,} miles\")\n",
    "#the comma separes the numerics by the thousands"
   ]
  },
  {
   "cell_type": "code",
   "execution_count": 123,
   "id": "4c703483-830a-4254-9d24-a3e8f5e67302",
   "metadata": {},
   "outputs": [],
   "source": [
    "Mylo = dog('Mylo',11,'Dashlund')\n",
    "Kiki = dog('Kiki',1,'Chihuahua')\n",
    "Spike = dog('Spike',6,'Bulldog')\n",
    "Tommy = dog('Tommy',6,'Bulldog')"
   ]
  },
  {
   "cell_type": "code",
   "execution_count": 124,
   "id": "22d63ee3-c9b2-4625-bc4b-c735c0610182",
   "metadata": {},
   "outputs": [
    {
     "data": {
      "text/plain": [
       "'Mylo says Yap'"
      ]
     },
     "execution_count": 124,
     "metadata": {},
     "output_type": "execute_result"
    }
   ],
   "source": [
    "Mylo.noise('Yap')"
   ]
  },
  {
   "cell_type": "code",
   "execution_count": 136,
   "id": "b2176a63-e8a7-4ca1-954b-54107ef80c03",
   "metadata": {},
   "outputs": [],
   "source": [
    "class Dashlund(Doggy):\n",
    "    pass\n",
    "class Chihuahua(Doggy):\n",
    "    pass\n",
    "class Bulldog(Doggy):\n",
    "    pass"
   ]
  },
  {
   "cell_type": "code",
   "execution_count": 137,
   "id": "f3809790-758f-4884-84e5-07e5cdaad81a",
   "metadata": {},
   "outputs": [],
   "source": [
    "Joseph=Dashlund('Joseph',7) "
   ]
  },
  {
   "cell_type": "code",
   "execution_count": 138,
   "id": "6aa6f796-da9a-498c-8459-40e77c9ad0b7",
   "metadata": {},
   "outputs": [
    {
     "name": "stdout",
     "output_type": "stream",
     "text": [
      "Joseph is 7 years old\n"
     ]
    }
   ],
   "source": [
    "print(Joseph)"
   ]
  },
  {
   "cell_type": "code",
   "execution_count": 143,
   "id": "28aedd2e-3b9d-4fa9-a347-b0725cb52f7c",
   "metadata": {},
   "outputs": [
    {
     "data": {
      "text/plain": [
       "__main__.Dashlund"
      ]
     },
     "execution_count": 143,
     "metadata": {},
     "output_type": "execute_result"
    }
   ],
   "source": [
    "type(Joseph)"
   ]
  },
  {
   "cell_type": "code",
   "execution_count": 165,
   "id": "312df208-77b5-49d0-ba01-a255db7e6e19",
   "metadata": {},
   "outputs": [],
   "source": [
    "class Dashlund(Doggy):\n",
    "    def noise(self,sound='Arggg'):\n",
    "        return super().noise(sound)"
   ]
  },
  {
   "cell_type": "code",
   "execution_count": 166,
   "id": "7f25b5b9-eed4-422d-8e59-a6d7177a98ca",
   "metadata": {},
   "outputs": [],
   "source": [
    "Penelope=Dashlund('Penelope',3)"
   ]
  },
  {
   "cell_type": "code",
   "execution_count": 167,
   "id": "84287ade-3c41-4481-93f6-d91dc1773603",
   "metadata": {},
   "outputs": [
    {
     "name": "stdout",
     "output_type": "stream",
     "text": [
      "Penelope is 3 years old\n"
     ]
    }
   ],
   "source": [
    "print(Penelope)"
   ]
  },
  {
   "cell_type": "code",
   "execution_count": 175,
   "id": "d9bf9c8a-ca87-440c-9bed-b07d5bd6659e",
   "metadata": {},
   "outputs": [
    {
     "data": {
      "text/plain": [
       "'Penelope makes a Arggg noise'"
      ]
     },
     "execution_count": 175,
     "metadata": {},
     "output_type": "execute_result"
    }
   ],
   "source": [
    "Penelope.noise()"
   ]
  },
  {
   "cell_type": "code",
   "execution_count": 180,
   "id": "504a041d-1c3b-476b-906b-62bcc665f36a",
   "metadata": {},
   "outputs": [],
   "source": [
    "class GoldenRetriever(Doggy):\n",
    "    def noise(self,sound='Bark'):\n",
    "        return super().noise(sound)"
   ]
  },
  {
   "cell_type": "code",
   "execution_count": 181,
   "id": "8d387580-24ba-445c-ac4b-3f529f6e8f30",
   "metadata": {},
   "outputs": [],
   "source": [
    "Luka=GoldenRetriever('Luka',0.5)"
   ]
  },
  {
   "cell_type": "code",
   "execution_count": 182,
   "id": "c75c3275-5518-4412-8123-51f646a23424",
   "metadata": {},
   "outputs": [
    {
     "name": "stdout",
     "output_type": "stream",
     "text": [
      "Luka is 0.5 years old\n"
     ]
    }
   ],
   "source": [
    "print(Luka)"
   ]
  },
  {
   "cell_type": "code",
   "execution_count": 183,
   "id": "9909c766-fc5b-46e1-a75b-afc759f18092",
   "metadata": {},
   "outputs": [
    {
     "data": {
      "text/plain": [
       "'Luka makes a Bark noise'"
      ]
     },
     "execution_count": 183,
     "metadata": {},
     "output_type": "execute_result"
    }
   ],
   "source": [
    "Luka.noise()"
   ]
  },
  {
   "cell_type": "code",
   "execution_count": 184,
   "id": "e9e67eb3-eeb4-4263-9e24-2e1a581e7bde",
   "metadata": {},
   "outputs": [],
   "source": [
    "class test:\n",
    "    def __init__(self):\n",
    "        print('I came here without your permission lol')"
   ]
  },
  {
   "cell_type": "code",
   "execution_count": 186,
   "id": "539d09e9-987c-4cf9-a637-bea2ab5ea2c7",
   "metadata": {},
   "outputs": [
    {
     "name": "stdout",
     "output_type": "stream",
     "text": [
      "I came here without your permission lol\n",
      "<__main__.test object at 0x00000188985E9C40>\n"
     ]
    }
   ],
   "source": [
    "print(test())"
   ]
  },
  {
   "cell_type": "code",
   "execution_count": 19,
   "id": "8444f5dc-1797-46bc-a441-b73d6bc87f08",
   "metadata": {},
   "outputs": [],
   "source": [
    "def solution(A):\n",
    "    a=0\n",
    "    while (a:=a+1) < max(A):\n",
    "        print(a)"
   ]
  },
  {
   "cell_type": "code",
   "execution_count": 20,
   "id": "5e7feb8a-24cb-4eff-a486-6aa414410e70",
   "metadata": {},
   "outputs": [
    {
     "name": "stdout",
     "output_type": "stream",
     "text": [
      "1\n",
      "2\n",
      "3\n",
      "4\n",
      "5\n"
     ]
    }
   ],
   "source": [
    "solution([1,2,4,6,2])"
   ]
  },
  {
   "cell_type": "code",
   "execution_count": null,
   "id": "d2180066-5515-4c7c-81a0-100daf7e25bd",
   "metadata": {},
   "outputs": [],
   "source": []
  }
 ],
 "metadata": {
  "kernelspec": {
   "display_name": "Python 3",
   "language": "python",
   "name": "python3"
  },
  "language_info": {
   "codemirror_mode": {
    "name": "ipython",
    "version": 3
   },
   "file_extension": ".py",
   "mimetype": "text/x-python",
   "name": "python",
   "nbconvert_exporter": "python",
   "pygments_lexer": "ipython3",
   "version": "3.9.7"
  }
 },
 "nbformat": 4,
 "nbformat_minor": 5
}
