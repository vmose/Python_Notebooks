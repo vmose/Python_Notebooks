{
 "cells": [
  {
   "cell_type": "code",
   "execution_count": null,
   "id": "df406839-c5b8-46f8-bf6e-8a965855ac3c",
   "metadata": {},
   "outputs": [],
   "source": [
    "import numpy as np\n",
    "import pandas as pd\n",
    "import seaborn as sb\n",
    "import matplotlib.pyplot as plt\n",
    "import torch\n",
    "%matplotlib inline"
   ]
  },
  {
   "cell_type": "code",
   "execution_count": null,
   "id": "71c8562e-475d-470b-8b6a-27a48baa82fe",
   "metadata": {},
   "outputs": [],
   "source": [
    "from sklearn.datasets import load_wine"
   ]
  },
  {
   "cell_type": "code",
   "execution_count": null,
   "id": "55bc7951-9551-475b-8c51-9390a78ac847",
   "metadata": {},
   "outputs": [],
   "source": [
    "load_wine = load_wine()"
   ]
  },
  {
   "cell_type": "code",
   "execution_count": null,
   "id": "afe0589b-8862-4780-a2dd-815a46c12eda",
   "metadata": {},
   "outputs": [],
   "source": [
    "load_wine.keys()"
   ]
  },
  {
   "cell_type": "code",
   "execution_count": null,
   "id": "8aafa64a-e1ad-413b-a50d-d0c7b0032283",
   "metadata": {},
   "outputs": [],
   "source": [
    "load_wine['target_names']"
   ]
  },
  {
   "cell_type": "code",
   "execution_count": null,
   "id": "ecdce753-d928-4ec9-b10d-c6a4ffb98c9e",
   "metadata": {},
   "outputs": [],
   "source": [
    "load_wine['data'].shape"
   ]
  },
  {
   "cell_type": "code",
   "execution_count": null,
   "id": "977da4c1-edae-4730-9503-8745836fa7c8",
   "metadata": {},
   "outputs": [],
   "source": [
    "load_wine['feature_names']"
   ]
  },
  {
   "cell_type": "code",
   "execution_count": null,
   "id": "60856a10-3b64-4643-a561-552e9734e3ed",
   "metadata": {},
   "outputs": [],
   "source": [
    "wine=pd.DataFrame(data=load_wine['data'],columns=load_wine['feature_names'])\n",
    "wine.head()"
   ]
  },
  {
   "cell_type": "code",
   "execution_count": null,
   "id": "d498a105-acf5-4176-ae07-9ab6613a1a53",
   "metadata": {},
   "outputs": [],
   "source": [
    "wine.corr()"
   ]
  },
  {
   "cell_type": "code",
   "execution_count": null,
   "id": "cefd4656-519a-43be-b915-c19e6a11ede8",
   "metadata": {},
   "outputs": [],
   "source": [
    "sb.heatmap(wine.corr())"
   ]
  },
  {
   "cell_type": "code",
   "execution_count": null,
   "id": "fea5c6a2-c959-44c9-b549-b6b8a2002284",
   "metadata": {},
   "outputs": [],
   "source": [
    "from sklearn.model_selection import train_test_split\n",
    "X_train, X_test, y_train, y_test = train_test_split(wine.drop('alcohol',axis=1), wine['alcohol'], test_size=0.33, random_state=42)"
   ]
  },
  {
   "cell_type": "code",
   "execution_count": null,
   "id": "15f84024-d34e-4535-8369-cfc6480a1b46",
   "metadata": {},
   "outputs": [],
   "source": [
    "from sklearn.linear_model import LinearRegression\n",
    "LinearRegression = LinearRegression()\n",
    "LinearRegression.fit(X_train,y_train)"
   ]
  },
  {
   "cell_type": "code",
   "execution_count": null,
   "id": "c3feeadd-58c0-4a9e-8681-dad5272b4cc4",
   "metadata": {},
   "outputs": [],
   "source": [
    "pred=LinearRegression.predict(X_test)"
   ]
  },
  {
   "cell_type": "code",
   "execution_count": null,
   "id": "feebd362-f3da-4eb7-82b6-4a9811dd4d91",
   "metadata": {},
   "outputs": [],
   "source": [
    "LinearRegression.coef_"
   ]
  },
  {
   "cell_type": "code",
   "execution_count": null,
   "id": "1c98f8ba-230f-4a2e-805d-f78174d4858b",
   "metadata": {},
   "outputs": [],
   "source": [
    "LinearRegression.intercept_"
   ]
  },
  {
   "cell_type": "code",
   "execution_count": null,
   "id": "cb5ecd01-739c-43f8-b526-82f6d1ea30b3",
   "metadata": {},
   "outputs": [],
   "source": [
    "pd.DataFrame(LinearRegression.coef_,X_train.columns,columns=['Coefficients'])"
   ]
  },
  {
   "cell_type": "code",
   "execution_count": null,
   "id": "c02b2aaf-3331-4b1d-a858-ce587607bf97",
   "metadata": {},
   "outputs": [],
   "source": [
    "sb.scatterplot(y_test,pred)"
   ]
  },
  {
   "cell_type": "code",
   "execution_count": null,
   "id": "01c48bed-3b9f-40ba-ad0b-bdc504d4a43a",
   "metadata": {},
   "outputs": [],
   "source": [
    "from sklearn.metrics import r2_score"
   ]
  },
  {
   "cell_type": "code",
   "execution_count": null,
   "id": "249224e3-80f0-4e43-88f7-f6850326378e",
   "metadata": {},
   "outputs": [],
   "source": [
    "r2_score(y_test,pred)"
   ]
  },
  {
   "cell_type": "code",
   "execution_count": null,
   "id": "f4f884a5-05b8-4e0c-8c14-17ef24d842e0",
   "metadata": {},
   "outputs": [],
   "source": [
    "from sklearn.datasets import load_iris\n",
    "load_iris = load_iris()"
   ]
  },
  {
   "cell_type": "code",
   "execution_count": null,
   "id": "8e69dc66-9027-4b8e-aae4-cd7782d6f6e1",
   "metadata": {},
   "outputs": [],
   "source": [
    "load_iris.keys()"
   ]
  },
  {
   "cell_type": "code",
   "execution_count": null,
   "id": "731babcf-5362-49dc-b209-25f8fe37103b",
   "metadata": {},
   "outputs": [],
   "source": [
    "iris=pd.DataFrame(load_iris['data'],columns=load_iris['feature_names'])\n",
    "iris"
   ]
  },
  {
   "cell_type": "code",
   "execution_count": null,
   "id": "cb9c7d84-f818-4ad1-949d-8805a56676b5",
   "metadata": {},
   "outputs": [],
   "source": [
    "#load_iris['target']\n",
    "target=pd.DataFrame(load_iris['target'],columns=['target'])\n",
    "target"
   ]
  },
  {
   "cell_type": "code",
   "execution_count": null,
   "id": "dd9252ec-dc6f-4735-8672-c16d58976e6e",
   "metadata": {},
   "outputs": [],
   "source": [
    "from sklearn.linear_model import LogisticRegression\n",
    "LR=LogisticRegression()"
   ]
  },
  {
   "cell_type": "code",
   "execution_count": null,
   "id": "10fa308d-77ae-4d57-bfe2-62cd2db690f8",
   "metadata": {},
   "outputs": [],
   "source": [
    "#X_train, X_test, y_train, y_test = train_test_split(X, y, test_size=0.33, random_state=42)\n",
    "target.value_counts()"
   ]
  },
  {
   "cell_type": "code",
   "execution_count": null,
   "id": "07fe0f4f-7d18-4049-93d3-e6606b9ce6a7",
   "metadata": {},
   "outputs": [],
   "source": []
  }
 ],
 "metadata": {
  "kernelspec": {
   "display_name": "Python 3",
   "language": "python",
   "name": "python3"
  },
  "language_info": {
   "codemirror_mode": {
    "name": "ipython",
    "version": 3
   },
   "file_extension": ".py",
   "mimetype": "text/x-python",
   "name": "python",
   "nbconvert_exporter": "python",
   "pygments_lexer": "ipython3",
   "version": "3.9.7"
  }
 },
 "nbformat": 4,
 "nbformat_minor": 5
}
