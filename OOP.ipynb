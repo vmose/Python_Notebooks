{
 "cells": [
  {
   "cell_type": "code",
   "execution_count": 1,
   "id": "646b83b4-1ec7-4111-8967-8a99afd03b35",
   "metadata": {},
   "outputs": [],
   "source": [
    "#object oriented python programming"
   ]
  },
  {
   "cell_type": "code",
   "execution_count": 2,
   "id": "28e9b11f-deb5-487c-be10-99b71094b3f8",
   "metadata": {},
   "outputs": [
    {
     "name": "stdout",
     "output_type": "stream",
     "text": [
      "I came here without your permission lol\n"
     ]
    }
   ],
   "source": [
    "class test:\n",
    "    def __init__(self):\n",
    "        print('I came here without your permission lol')\n",
    "        pass\n",
    "t1 = test()"
   ]
  },
  {
   "cell_type": "code",
   "execution_count": null,
   "id": "19bec6c2-5129-4b7a-9593-a04e7d40c2f9",
   "metadata": {},
   "outputs": [],
   "source": [
    "pd.read_sql()"
   ]
  }
 ],
 "metadata": {
  "kernelspec": {
   "display_name": "Python 3",
   "language": "python",
   "name": "python3"
  },
  "language_info": {
   "codemirror_mode": {
    "name": "ipython",
    "version": 3
   },
   "file_extension": ".py",
   "mimetype": "text/x-python",
   "name": "python",
   "nbconvert_exporter": "python",
   "pygments_lexer": "ipython3",
   "version": "3.9.7"
  }
 },
 "nbformat": 4,
 "nbformat_minor": 5
}
