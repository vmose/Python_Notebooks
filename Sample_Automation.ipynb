{
 "cells": [
  {
   "cell_type": "code",
   "execution_count": 1,
   "id": "d5f9b3f2-6da0-431f-bc89-7e1e3896f921",
   "metadata": {},
   "outputs": [],
   "source": [
    "import pandas as pd\n",
    "from sqlalchemy import create_engine\n",
    "from sqlalchemy.exc import SQLAlchemyError"
   ]
  },
  {
   "cell_type": "code",
   "execution_count": 2,
   "id": "34f6769e-5656-436c-b99b-ad7ea1fac374",
   "metadata": {},
   "outputs": [
    {
     "name": "stdout",
     "output_type": "stream",
     "text": [
      "Connection successful\n"
     ]
    }
   ],
   "source": [
    "Warehouse = 'postgresql'\n",
    "User = 'postgres'\n",
    "Password = 'password'\n",
    "Server  = 'localhost'\n",
    "Schema = 'dvdrental'\n",
    "\n",
    "engine = create_engine(f'{Warehouse}://{User}:{Password}@{Server}/{Schema}',pool_recycle=3500) \n",
    "# can be modified to incorporate the drivers used in the connection for instance ?driver=ODBC+Driver+18+for+SQL+Server\n",
    "\n",
    "try:\n",
    "    engine.connect()\n",
    "    print('Connection successful')\n",
    "except SQLAlchemyError as e:\n",
    "    print(f'Error: {e}')"
   ]
  },
  {
   "cell_type": "code",
   "execution_count": 4,
   "id": "8c13eb64-20e4-478a-85fa-7658f7fecd52",
   "metadata": {},
   "outputs": [
    {
     "data": {
      "text/html": [
       "<div>\n",
       "<style scoped>\n",
       "    .dataframe tbody tr th:only-of-type {\n",
       "        vertical-align: middle;\n",
       "    }\n",
       "\n",
       "    .dataframe tbody tr th {\n",
       "        vertical-align: top;\n",
       "    }\n",
       "\n",
       "    .dataframe thead th {\n",
       "        text-align: right;\n",
       "    }\n",
       "</style>\n",
       "<table border=\"1\" class=\"dataframe\">\n",
       "  <thead>\n",
       "    <tr style=\"text-align: right;\">\n",
       "      <th></th>\n",
       "      <th>customer_id</th>\n",
       "      <th>customer_name</th>\n",
       "      <th>total_amount</th>\n",
       "    </tr>\n",
       "  </thead>\n",
       "  <tbody>\n",
       "    <tr>\n",
       "      <th>0</th>\n",
       "      <td>148</td>\n",
       "      <td>Eleanor Hunt</td>\n",
       "      <td>211.55</td>\n",
       "    </tr>\n",
       "    <tr>\n",
       "      <th>1</th>\n",
       "      <td>526</td>\n",
       "      <td>Karl Seal</td>\n",
       "      <td>208.58</td>\n",
       "    </tr>\n",
       "    <tr>\n",
       "      <th>2</th>\n",
       "      <td>178</td>\n",
       "      <td>Marion Snyder</td>\n",
       "      <td>194.61</td>\n",
       "    </tr>\n",
       "    <tr>\n",
       "      <th>3</th>\n",
       "      <td>137</td>\n",
       "      <td>Rhonda Kennedy</td>\n",
       "      <td>191.62</td>\n",
       "    </tr>\n",
       "    <tr>\n",
       "      <th>4</th>\n",
       "      <td>144</td>\n",
       "      <td>Clara Shaw</td>\n",
       "      <td>189.60</td>\n",
       "    </tr>\n",
       "    <tr>\n",
       "      <th>...</th>\n",
       "      <td>...</td>\n",
       "      <td>...</td>\n",
       "      <td>...</td>\n",
       "    </tr>\n",
       "    <tr>\n",
       "      <th>594</th>\n",
       "      <td>110</td>\n",
       "      <td>Tiffany Jordan</td>\n",
       "      <td>49.88</td>\n",
       "    </tr>\n",
       "    <tr>\n",
       "      <th>595</th>\n",
       "      <td>320</td>\n",
       "      <td>Anthony Schwab</td>\n",
       "      <td>47.85</td>\n",
       "    </tr>\n",
       "    <tr>\n",
       "      <th>596</th>\n",
       "      <td>248</td>\n",
       "      <td>Caroline Bowman</td>\n",
       "      <td>37.87</td>\n",
       "    </tr>\n",
       "    <tr>\n",
       "      <th>597</th>\n",
       "      <td>281</td>\n",
       "      <td>Leona Obrien</td>\n",
       "      <td>32.90</td>\n",
       "    </tr>\n",
       "    <tr>\n",
       "      <th>598</th>\n",
       "      <td>318</td>\n",
       "      <td>Brian Wyman</td>\n",
       "      <td>27.93</td>\n",
       "    </tr>\n",
       "  </tbody>\n",
       "</table>\n",
       "<p>599 rows × 3 columns</p>\n",
       "</div>"
      ],
      "text/plain": [
       "     customer_id    customer_name  total_amount\n",
       "0            148     Eleanor Hunt        211.55\n",
       "1            526        Karl Seal        208.58\n",
       "2            178    Marion Snyder        194.61\n",
       "3            137   Rhonda Kennedy        191.62\n",
       "4            144       Clara Shaw        189.60\n",
       "..           ...              ...           ...\n",
       "594          110   Tiffany Jordan         49.88\n",
       "595          320   Anthony Schwab         47.85\n",
       "596          248  Caroline Bowman         37.87\n",
       "597          281     Leona Obrien         32.90\n",
       "598          318      Brian Wyman         27.93\n",
       "\n",
       "[599 rows x 3 columns]"
      ]
     },
     "execution_count": 4,
     "metadata": {},
     "output_type": "execute_result"
    }
   ],
   "source": [
    "db=engine.connect()\n",
    "df=pd.read_sql(\"\"\"\n",
    "SELECT\n",
    "  p.customer_id,\n",
    "  CONCAT(c.first_name, ' ', c.last_name) AS customer_name,\n",
    "  SUM(p.amount) AS total_amount\n",
    "FROM\n",
    "  payment p\n",
    "  LEFT JOIN customer c ON p.customer_id = c.customer_id\n",
    "GROUP BY\n",
    "  p.customer_id, customer_name\n",
    "ORDER BY\n",
    "  total_amount DESC;\n",
    " \"\"\", db,index_col=None)\n",
    "\n",
    "df"
   ]
  },
  {
   "cell_type": "code",
   "execution_count": 5,
   "id": "03e9fe3b-b866-4061-9354-60e5c456eef1",
   "metadata": {},
   "outputs": [],
   "source": [
    "df.to_excel(r'C:\\Output\\Customer_Rankings.xlsx')\n",
    "# export can than be emailed and automated using available OS task schedulers"
   ]
  }
 ],
 "metadata": {
  "kernelspec": {
   "display_name": "Python 3",
   "language": "python",
   "name": "python3"
  },
  "language_info": {
   "codemirror_mode": {
    "name": "ipython",
    "version": 3
   },
   "file_extension": ".py",
   "mimetype": "text/x-python",
   "name": "python",
   "nbconvert_exporter": "python",
   "pygments_lexer": "ipython3",
   "version": "3.9.7"
  }
 },
 "nbformat": 4,
 "nbformat_minor": 5
}
