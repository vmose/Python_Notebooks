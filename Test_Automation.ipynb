{
 "cells": [
  {
   "cell_type": "code",
   "execution_count": 9,
   "id": "96371f5a-5455-4f09-a3fa-32e9206c5f01",
   "metadata": {},
   "outputs": [
    {
     "ename": "NameError",
     "evalue": "name 'sendermail' is not defined",
     "output_type": "error",
     "traceback": [
      "\u001b[1;31m---------------------------------------------------------------------------\u001b[0m",
      "\u001b[1;31mNameError\u001b[0m                                 Traceback (most recent call last)",
      "\u001b[1;32m<ipython-input-9-d297c443e597>\u001b[0m in \u001b[0;36m<module>\u001b[1;34m\u001b[0m\n\u001b[0;32m      7\u001b[0m \u001b[0mengine\u001b[0m\u001b[1;33m=\u001b[0m\u001b[0mcreate_engine\u001b[0m\u001b[1;33m(\u001b[0m\u001b[1;34mf'postgresql://postgres:{password}@{server}/dvdrental'\u001b[0m\u001b[1;33m)\u001b[0m\u001b[1;33m\u001b[0m\u001b[1;33m\u001b[0m\u001b[0m\n\u001b[0;32m      8\u001b[0m \u001b[0mdb\u001b[0m\u001b[1;33m=\u001b[0m\u001b[0mengine\u001b[0m\u001b[1;33m.\u001b[0m\u001b[0mconnect\u001b[0m\u001b[1;33m(\u001b[0m\u001b[1;33m)\u001b[0m\u001b[1;33m\u001b[0m\u001b[1;33m\u001b[0m\u001b[0m\n\u001b[1;32m----> 9\u001b[1;33m \u001b[0muser\u001b[0m\u001b[1;33m=\u001b[0m\u001b[0myagmail\u001b[0m\u001b[1;33m.\u001b[0m\u001b[0mSMTP\u001b[0m\u001b[1;33m(\u001b[0m\u001b[0muser\u001b[0m\u001b[1;33m=\u001b[0m\u001b[1;34mf'{sendermail}'\u001b[0m\u001b[1;33m,\u001b[0m\u001b[0mpassword\u001b[0m\u001b[1;33m=\u001b[0m\u001b[1;34mf'{senderpassword}'\u001b[0m\u001b[1;33m)\u001b[0m\u001b[1;33m\u001b[0m\u001b[1;33m\u001b[0m\u001b[0m\n\u001b[0m\u001b[0;32m     10\u001b[0m \u001b[0mdf\u001b[0m\u001b[1;33m=\u001b[0m\u001b[0mpd\u001b[0m\u001b[1;33m.\u001b[0m\u001b[0mread_sql\u001b[0m\u001b[1;33m(\u001b[0m\u001b[1;34mf\"SELECT * FROM payment WHERE posting_date >= CURRENT_DATE - INTERVAL '120 days'\"\u001b[0m\u001b[1;33m,\u001b[0m\u001b[0mdb\u001b[0m\u001b[1;33m)\u001b[0m\u001b[1;33m\u001b[0m\u001b[1;33m\u001b[0m\u001b[0m\n\u001b[0;32m     11\u001b[0m \u001b[1;33m(\u001b[0m\u001b[0mdf\u001b[0m\u001b[1;33m)\u001b[0m\u001b[1;33m.\u001b[0m\u001b[0mto_excel\u001b[0m\u001b[1;33m(\u001b[0m\u001b[1;34mr'C:\\Output\\tester.xlsx'\u001b[0m\u001b[1;33m)\u001b[0m\u001b[1;33m\u001b[0m\u001b[1;33m\u001b[0m\u001b[0m\n",
      "\u001b[1;31mNameError\u001b[0m: name 'sendermail' is not defined"
     ]
    }
   ],
   "source": [
    "import pandas as pd\n",
    "import yagmail\n",
    "import time\n",
    "import schedule\n",
    "from sqlalchemy import create_engine\n",
    "\n",
    "engine=create_engine(f'postgresql://postgres:{password}@{server}/dvdrental')\n",
    "db=engine.connect()\n",
    "user=yagmail.SMTP(user=f'{sendermail}',password=f'{senderpassword}')\n",
    "df=pd.read_sql(f\"SELECT * FROM payment WHERE posting_date >= CURRENT_DATE - INTERVAL '120 days'\",db)\n",
    "(df).to_excel(r'C:\\Output\\tester.xlsx')\n",
    "user.send(to=f'{internal_audit}',subject='test',contents='test',attachments=r'C:\\Output\\tester.xlsx')\n",
    "db.close()\n",
    "# quit()"
   ]
  },
  {
   "cell_type": "code",
   "execution_count": 1,
   "id": "7ed96945-9cee-4164-984b-5893f9e28477",
   "metadata": {},
   "outputs": [],
   "source": [
    "def mailer():\n",
    "    df=pd.read_sql(f\"SELECT * FROM payment WHERE posting_date >= CURRENT_DATE - INTERVAL '120 days'\",db)\n",
    "    (df).to_excel(r'C:\\Output\\Q1_PAYMENTS2022.xlsx')\n",
    "    user.send(to=f'{internal_audit}',subject='test',contents='test',attachments=r'C:\\Output\\Q1_PAYMENTS2022.xlsx')"
   ]
  },
  {
   "cell_type": "code",
   "execution_count": 2,
   "id": "71a31dcf-c04a-4ead-9cb1-46fed3f19644",
   "metadata": {},
   "outputs": [],
   "source": [
    "schedule.every(3).months.do(mailer)"
   ]
  },
  {
   "cell_type": "code",
   "execution_count": null,
   "id": "036879aa-0d7e-4af3-afd4-0057a7651921",
   "metadata": {},
   "outputs": [],
   "source": [
    "while True:\n",
    "    schedule.run_pending()\n",
    "    time.sleep(1)"
   ]
  }
 ],
 "metadata": {
  "kernelspec": {
   "display_name": "Python 3",
   "language": "python",
   "name": "python3"
  },
  "language_info": {
   "codemirror_mode": {
    "name": "ipython",
    "version": 3
   },
   "file_extension": ".py",
   "mimetype": "text/x-python",
   "name": "python",
   "nbconvert_exporter": "python",
   "pygments_lexer": "ipython3",
   "version": "3.9.7"
  }
 },
 "nbformat": 4,
 "nbformat_minor": 5
}
