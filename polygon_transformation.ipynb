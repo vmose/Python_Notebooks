{
 "cells": [
  {
   "cell_type": "code",
   "execution_count": 1,
   "metadata": {},
   "outputs": [
    {
     "name": "stdout",
     "output_type": "stream",
     "text": [
      "                                    geometry_polygon  \\\n",
      "0  POLYGON ((30.445659644901838 -0.74046889964000...   \n",
      "1  POLYGON ((30.44573608785877 -0.740643563911432...   \n",
      "2  POLYGON ((29.765873551369012 -0.83606617507015...   \n",
      "3  POLYGON ((29.766268506646508 -0.83518348691248...   \n",
      "4  POLYGON ((31.13832738250501 0.558417353114317,...   \n",
      "\n",
      "                                        farm_polygon  \\\n",
      "0  [{'latitude': -0.7404688996400288, 'longitude'...   \n",
      "1  [{'latitude': -0.7406435639114574, 'longitude'...   \n",
      "2  [{'latitude': -0.836066175070194, 'longitude':...   \n",
      "3  [{'latitude': -0.83518348691252, 'longitude': ...   \n",
      "4  [{'latitude': 0.5584173531143315, 'longitude':...   \n",
      "\n",
      "                                     aligned_polygon  \n",
      "0  POLYGON ((30.445659644901838 -0.74046889964000...  \n",
      "1  POLYGON ((30.445736087858766 -0.74064356391143...  \n",
      "2  POLYGON ((29.765873551369022 -0.83606617507015...  \n",
      "3  POLYGON ((29.76626850664651 -0.835183486912485...  \n",
      "4  POLYGON ((31.138327382505008 0.558417353114317...  \n"
     ]
    }
   ],
   "source": [
    "# Code Breakdown:\n",
    "\n",
    "# Purpose:\n",
    "\n",
    "# The code aligns farm polygons to match the boundaries of corresponding geometry polygons.\n",
    "# It reads an Excel file containing geographic data, extracts and processes polygons, and creates a new column with aligned polygons.\n",
    "\n",
    "# Import necessary libraries\n",
    "import pandas as pd  # For data manipulation and analysis\n",
    "from shapely import wkt  # For converting WKT strings to Shapely geometries\n",
    "from shapely.geometry import Point, Polygon  # For creating geometric shapes\n",
    "from shapely.affinity import affine_transform  # For performing affine transformations on geometries\n",
    "import json  # For handling JSON data\n",
    "\n",
    "# Load the Excel file\n",
    "file_path = r'C:\\Users\\Vmose\\Desktop\\Data.xlsx'  # Define the path to the Excel file\n",
    "data = pd.read_excel(file_path, sheet_name='Sheet1')  # Read the data from the specified sheet\n",
    "\n",
    "# Parse the 'geometry' column to extract polygon boundaries\n",
    "data['geometry_polygon'] = data['geometry'].apply(wkt.loads)  # Convert WKT strings to Shapely polygons\n",
    "\n",
    "# Convert 'Farm Polygon' from JSON-like string to actual list of dictionaries\n",
    "data['farm_polygon'] = data['Farm Polygon'].apply(lambda x: json.loads(x.replace(\"'\", '\"')))  # Convert JSON-like strings to Python dictionaries\n",
    "\n",
    "def convert_farm_polygon_to_shapely(farm_polygon):\n",
    "    \"\"\"Convert farm polygon points to a Shapely Polygon.\"\"\"\n",
    "    points = [Point(p['longitude'], p['latitude']) for p in farm_polygon]  # Create a list of Shapely Points from the farm polygon coordinates\n",
    "    return Polygon(points)  # Return a Shapely Polygon created from the list of points\n",
    "\n",
    "def align_polygons(geometry_polygon, farm_polygon):\n",
    "    \"\"\"Align the farm polygon to match the geometry polygon boundaries.\"\"\"\n",
    "    farm_poly_shapely = convert_farm_polygon_to_shapely(farm_polygon)  # Convert the farm polygon to a Shapely Polygon\n",
    "    \n",
    "    # Get bounds of both polygons\n",
    "    geo_bounds = geometry_polygon.bounds  # Get the bounding box of the geometry polygon\n",
    "    farm_bounds = farm_poly_shapely.bounds  # Get the bounding box of the farm polygon\n",
    "    \n",
    "    # Calculate the necessary scale and translation factors\n",
    "    scale_x = (geo_bounds[2] - geo_bounds[0]) / (farm_bounds[2] - farm_bounds[0])  # Calculate the scaling factor for the x-axis\n",
    "    scale_y = (geo_bounds[3] - geo_bounds[1]) / (farm_bounds[3] - farm_bounds[1])  # Calculate the scaling factor for the y-axis\n",
    "    \n",
    "    trans_x = geo_bounds[0] - farm_bounds[0] * scale_x  # Calculate the translation factor for the x-axis\n",
    "    trans_y = geo_bounds[1] - farm_bounds[1] * scale_y  # Calculate the translation factor for the y-axis\n",
    "    \n",
    "    # Apply affine transformation\n",
    "    aligned_polygon = affine_transform(farm_poly_shapely, [scale_x, 0, 0, scale_y, trans_x, trans_y])  # Apply the scaling and translation to align the farm polygon with the geometry polygon\n",
    "    \n",
    "    return aligned_polygon  # Return the aligned polygon\n",
    "\n",
    "# Apply the alignment to each row\n",
    "data['aligned_polygon'] = data.apply(lambda row: align_polygons(row['geometry_polygon'], row['farm_polygon']), axis=1)  # Apply the align_polygons function to each row\n",
    "\n",
    "# Display the first few rows to verify\n",
    "print(data[['geometry_polygon', 'farm_polygon', 'aligned_polygon']].head())  # Print the first few rows of the DataFrame to check the results\n"
   ]
  }
 ],
 "metadata": {
  "kernelspec": {
   "display_name": "base",
   "language": "python",
   "name": "python3"
  },
  "language_info": {
   "codemirror_mode": {
    "name": "ipython",
    "version": 3
   },
   "file_extension": ".py",
   "mimetype": "text/x-python",
   "name": "python",
   "nbconvert_exporter": "python",
   "pygments_lexer": "ipython3",
   "version": "3.11.8"
  }
 },
 "nbformat": 4,
 "nbformat_minor": 2
}
