{
 "cells": [
  {
   "cell_type": "code",
   "execution_count": 9,
   "id": "d413cd26-6881-4984-9297-e0c12960d459",
   "metadata": {},
   "outputs": [],
   "source": [
    "import psycopg2 as pg2\n",
    "import pandas as pd"
   ]
  },
  {
   "cell_type": "code",
   "execution_count": 2,
   "id": "ffd54afd-cd2d-4c63-980c-54dab90fd8ef",
   "metadata": {},
   "outputs": [],
   "source": [
    "conn=pg2.connect(database='dvdrental',user='postgres',password='password')"
   ]
  },
  {
   "cell_type": "code",
   "execution_count": 3,
   "id": "bfcde10e-241e-47cb-9ce3-9b1e6024629d",
   "metadata": {},
   "outputs": [],
   "source": [
    "cur=conn.cursor()"
   ]
  },
  {
   "cell_type": "code",
   "execution_count": 7,
   "id": "a5ca5fcc-901c-44b9-b569-b2a2dbe05c30",
   "metadata": {},
   "outputs": [],
   "source": [
    "cur.execute('SELECT * FROM payment')"
   ]
  },
  {
   "cell_type": "code",
   "execution_count": 8,
   "id": "157c96e0-3d7f-4ebd-9bc0-69361c957950",
   "metadata": {},
   "outputs": [
    {
     "data": {
      "text/plain": [
       "(17503,\n",
       " 341,\n",
       " 2,\n",
       " 1520,\n",
       " Decimal('7.99'),\n",
       " datetime.datetime(2007, 2, 15, 22, 25, 46, 996577))"
      ]
     },
     "execution_count": 8,
     "metadata": {},
     "output_type": "execute_result"
    }
   ],
   "source": [
    "cur.fetchone()"
   ]
  },
  {
   "cell_type": "code",
   "execution_count": null,
   "id": "5e335b60-2e4f-4886-80de-f1365a09e3e6",
   "metadata": {},
   "outputs": [],
   "source": [
    "data =pd.read_sql_table()"
   ]
  }
 ],
 "metadata": {
  "kernelspec": {
   "display_name": "Python 3",
   "language": "python",
   "name": "python3"
  },
  "language_info": {
   "codemirror_mode": {
    "name": "ipython",
    "version": 3
   },
   "file_extension": ".py",
   "mimetype": "text/x-python",
   "name": "python",
   "nbconvert_exporter": "python",
   "pygments_lexer": "ipython3",
   "version": "3.9.7"
  }
 },
 "nbformat": 4,
 "nbformat_minor": 5
}
