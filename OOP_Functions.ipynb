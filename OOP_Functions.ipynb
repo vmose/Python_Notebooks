{
 "cells": [
  {
   "cell_type": "code",
   "execution_count": 1,
   "id": "bbd2a3b5-788e-44b4-92c8-61d95eae988e",
   "metadata": {},
   "outputs": [],
   "source": [
    "def variable(A):\n",
    "    a=0\n",
    "    while (a:=a+1) < max(A):\n",
    "        print(a)\n",
    "        \n",
    "variable([1,2,4,6,2])"
   ]
  },
  {
   "cell_type": "code",
   "execution_count": null,
   "id": "1cc89d95-ac5e-4064-8a38-c444b3f7b8de",
   "metadata": {},
   "outputs": [],
   "source": [
    "def solution(A):\n",
    "    # Remove all negative integers and 0\n",
    "    A = list(filter(lambda x: x > 0, A))\n",
    "    \n",
    "    # If all numbers are negative or 0, return 1\n",
    "    if len(A) == 0:\n",
    "        return 1\n",
    "    \n",
    "    # Sort the list of positive integers\n",
    "    A.sort()\n",
    "    \n",
    "    # If the first positive integer is greater than 1, return 1\n",
    "    if A[0] > 1:\n",
    "        return 1\n",
    "    \n",
    "    # Find the smallest positive integer that does not occur in the sorted list\n",
    "    for i in range(len(A)-1):\n",
    "        if A[i+1] - A[i] > 1:\n",
    "            return A[i]+1\n",
    "    \n",
    "    # If all integers from 1 to the maximum in the list are present, return the next integer\n",
    "    return A[-1]+1"
   ]
  }
 ],
 "metadata": {
  "kernelspec": {
   "display_name": "Python 3",
   "language": "python",
   "name": "python3"
  },
  "language_info": {
   "codemirror_mode": {
    "name": "ipython",
    "version": 3
   },
   "file_extension": ".py",
   "mimetype": "text/x-python",
   "name": "python",
   "nbconvert_exporter": "python",
   "pygments_lexer": "ipython3",
   "version": "3.9.7"
  }
 },
 "nbformat": 4,
 "nbformat_minor": 5
}
