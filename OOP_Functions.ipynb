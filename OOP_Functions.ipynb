{
 "cells": [
  {
   "cell_type": "code",
   "execution_count": 1,
   "id": "bbd2a3b5-788e-44b4-92c8-61d95eae988e",
   "metadata": {},
   "outputs": [
    {
     "name": "stdout",
     "output_type": "stream",
     "text": [
      "1\n",
      "2\n",
      "3\n",
      "4\n",
      "5\n"
     ]
    }
   ],
   "source": [
    "def variable(A):\n",
    "    a=0\n",
    "    while (a:=a+1) < max(A):\n",
    "        print(a)\n",
    "        \n",
    "variable([1,2,4,6,2])"
   ]
  },
  {
   "cell_type": "code",
   "execution_count": 2,
   "id": "1cc89d95-ac5e-4064-8a38-c444b3f7b8de",
   "metadata": {},
   "outputs": [],
   "source": [
    "# Write a function that, given an array A of N integers, returns the smallest \n",
    "# positive integer (greater than 0) that does not occur in A.\n",
    "# For example, given A = [1, 3, 6, 4, 1, 2], the function should return 5.\n",
    "# Given A = [1, 2, 3], the function should return 4.\n",
    "# Given A = [−1, −3], the function should return 1.\n",
    "\n",
    "def solution(A):\n",
    "    # Remove all negative integers and 0\n",
    "    A = list(filter(lambda x: x > 0, A))\n",
    "    \n",
    "    # If all numbers are negative or 0, return 1\n",
    "    if len(A) == 0:\n",
    "        return 1\n",
    "    \n",
    "    # Sort the list of positive integers\n",
    "    A.sort()\n",
    "    \n",
    "    # If the first positive integer is greater than 1, return 1\n",
    "    if A[0] > 1:\n",
    "        return 1\n",
    "    \n",
    "    # Find the smallest positive integer that does not occur in the sorted list\n",
    "    for i in range(len(A)-1):\n",
    "        if A[i+1] - A[i] > 1:\n",
    "            return A[i]+1\n",
    "    \n",
    "    # If all integers from 1 to the maximum in the list are present, return the next integer\n",
    "    return A[-1]+1"
   ]
  },
  {
   "cell_type": "code",
   "execution_count": 3,
   "id": "4c9f1c3c-14ed-4c98-a8d6-23f17c778439",
   "metadata": {},
   "outputs": [
    {
     "data": {
      "text/plain": [
       "3"
      ]
     },
     "execution_count": 3,
     "metadata": {},
     "output_type": "execute_result"
    }
   ],
   "source": [
    "solution([1,2,4,6,2])"
   ]
  },
  {
   "cell_type": "code",
   "execution_count": 4,
   "id": "018a20c0-053b-419b-9e76-a1d487b14b29",
   "metadata": {},
   "outputs": [],
   "source": [
    "def wordplay(A, B):\n",
    "    output = ''\n",
    "    while A > 0 or B > 0:\n",
    "        if A > B:\n",
    "            if len(output) >= 2 and output[-2:] == 'aa':\n",
    "                output += 'b'\n",
    "                B -= 1\n",
    "            else:\n",
    "                output += 'a'\n",
    "                A -= 1\n",
    "        else:\n",
    "            if len(output) >= 2 and output[-2:] == 'bb':\n",
    "                output += 'a'\n",
    "                A -= 1\n",
    "            else:\n",
    "                output += 'b'\n",
    "                B -= 1\n",
    "    return output"
   ]
  },
  {
   "cell_type": "code",
   "execution_count": 5,
   "id": "48a4ec63-2cfd-493b-b003-be21b71cac92",
   "metadata": {},
   "outputs": [],
   "source": [
    "def solution(A):\n",
    "    list = set(x for x in A if x>0)\n",
    "\n",
    "    i=1\n",
    "    while i in list:\n",
    "        i+=1\n",
    "    return i"
   ]
  },
  {
   "cell_type": "code",
   "execution_count": 6,
   "id": "47d43f25-ebcb-4c13-8445-a883a9b5bf9a",
   "metadata": {},
   "outputs": [],
   "source": [
    "# Initially, string S of length N is given. \n",
    "# Then N-1 operations are applied to it: remove the first letter of S and add it to the end. \n",
    "# How many times is the first letter of S the same as the last letter? \n",
    "# Write a python function: def solution (S) that given a \n",
    "# string S of length N consisting of letters \"a\" and/or \"b\" returns the number of times the \n",
    "# first letter is the same as the last in the obtained sequence of strings\n",
    "\n",
    "def worldplay(S):\n",
    "    # Initialize the count to 0\n",
    "    count = 0\n",
    "    \n",
    "    # Get the first and last characters of S\n",
    "    first_char = S[0]\n",
    "    last_char = S[-1]\n",
    "    \n",
    "    # Check if the first and last characters are the same\n",
    "    if first_char == last_char:\n",
    "        count += 1\n",
    "    \n",
    "    # Compute the number of times the first letter is the same as the last\n",
    "    for i in range(1, len(S)):\n",
    "        # Remove the first character of S and add it to the end\n",
    "        S = S[1:] + S[0]\n",
    "        \n",
    "        # Get the new last character of S\n",
    "        last_char = S[-1]\n",
    "        \n",
    "        # Check if the first and last characters are the same\n",
    "        if first_char == last_char:\n",
    "            count += 1\n",
    "    \n",
    "    return count"
   ]
  },
  {
   "cell_type": "code",
   "execution_count": 7,
   "id": "9b7f2208-5fe3-4c60-b59d-bedac8ac77b6",
   "metadata": {},
   "outputs": [
    {
     "name": "stdout",
     "output_type": "stream",
     "text": [
      "4\n",
      "2\n"
     ]
    }
   ],
   "source": [
    "print(worldplay('abbbabaa'))\n",
    "print(worldplay('abab')) #output should be 0"
   ]
  },
  {
   "cell_type": "code",
   "execution_count": 8,
   "id": "5b309f02-35bd-4d9b-9970-0fcc49688d01",
   "metadata": {},
   "outputs": [],
   "source": [
    "def wordplay2(S):\n",
    "    # Concatenate the input string with itself\n",
    "    S = S + S\n",
    "    count = 0\n",
    "    for i in range(len(S)-1):\n",
    "        # Check if the first and last characters of the current substring are the same\n",
    "        if S[i] == S[i+1]:\n",
    "            count += 1\n",
    "    return count"
   ]
  },
  {
   "cell_type": "code",
   "execution_count": 9,
   "id": "d3968477-d8d2-49a3-8e76-77f9bceabc33",
   "metadata": {},
   "outputs": [
    {
     "name": "stdout",
     "output_type": "stream",
     "text": [
      "7\n",
      "0\n"
     ]
    }
   ],
   "source": [
    "print(wordplay2('abbbabaa'))#output should be 4\n",
    "print(wordplay2('abab'))"
   ]
  },
  {
   "cell_type": "code",
   "execution_count": 10,
   "id": "4f197991-5626-45a4-a3dd-66c1428b77c3",
   "metadata": {},
   "outputs": [],
   "source": [
    "def wordplay3(S):\n",
    "    count = 0\n",
    "    for i in range(len(S)):\n",
    "        # Check if the first and last characters of the current substring are the same\n",
    "        if S[i] == S[(i-1)%len(S)]:\n",
    "            count += 1\n",
    "    return count"
   ]
  },
  {
   "cell_type": "code",
   "execution_count": 11,
   "id": "885a671b-08d5-4ab4-9717-3c2ca8cfb9fc",
   "metadata": {},
   "outputs": [],
   "source": [
    "def wordcount4(string):\n",
    "    vowel = 'a'\n",
    "    count = 0\n",
    "    for i in range (1,len(string)):\n",
    "        string = string[1:] + vowel\n",
    "        \n",
    "        char_1 = string[0]\n",
    "        char_n= string[-1]\n",
    "        if char_1==char_n:\n",
    "            (count:=count+1)\n",
    "        \n",
    "        return count"
   ]
  },
  {
   "cell_type": "code",
   "execution_count": 12,
   "id": "25e149a4-3516-4608-b723-3ede59b9dc6c",
   "metadata": {},
   "outputs": [],
   "source": [
    "#You are given a string S of size N. \n",
    "#In one operation you can replace and character of the string with any other character. \n",
    "#find the minimum number of operations required so that no two vowels or consonants are adjacent.\n",
    "\n",
    "def min_operations(s):\n",
    "    # Helper function to check if a character is a vowel\n",
    "    def is_vowel(c):\n",
    "        return c in \"aeiouAEIOU\"\n",
    "\n",
    "    # Convert the string to a list of characters for easy manipulation\n",
    "    s = list(s)\n",
    "\n",
    "    # Initialize the count of operations to zero\n",
    "    count = 0\n",
    "\n",
    "    # Loop through the string and swap adjacent vowels or consonants\n",
    "    for i in range(1, len(s)):\n",
    "        if is_vowel(s[i-1]) == is_vowel(s[i]):\n",
    "            # If two adjacent characters are of the same type, we need to swap one of them\n",
    "            count += 1\n",
    "            if is_vowel(s[i-1]):\n",
    "                # If both characters are vowels, we can swap one with a consonant\n",
    "                for j in range(ord('a'), ord('z')+1):\n",
    "                    if chr(j) not in \"aeiouAEIOU\":\n",
    "                        s[i] = chr(j)\n",
    "                        break\n",
    "            else:\n",
    "                # If both characters are consonants, we can swap one with a vowel\n",
    "                for j in \"aeiouAEIOU\":\n",
    "                    if j not in s[:i] + s[i+1:]:\n",
    "                        s[i] = j\n",
    "                        break\n",
    "\n",
    "    # Convert the list back to a string and return the count of operations\n",
    "    return count, ''.join(s)"
   ]
  },
  {
   "cell_type": "code",
   "execution_count": 13,
   "id": "63f76ca5-4612-4ed8-b222-bee6aa94960d",
   "metadata": {},
   "outputs": [
    {
     "data": {
      "text/plain": [
       "(1, 'tat')"
      ]
     },
     "execution_count": 13,
     "metadata": {},
     "output_type": "execute_result"
    }
   ],
   "source": [
    "min_operations(\"ttt\")"
   ]
  },
  {
   "cell_type": "code",
   "execution_count": 15,
   "id": "85e966bd-f930-435a-925e-fdf6cc0fb8d9",
   "metadata": {},
   "outputs": [],
   "source": [
    "def stars(number):\n",
    "    for i in range(1, number+1):\n",
    "        print(' ' * (number - i) + '*' * (2 * i - 1))"
   ]
  },
  {
   "cell_type": "code",
   "execution_count": 16,
   "id": "4e5cd658-3847-483e-936a-29a4aefd912b",
   "metadata": {},
   "outputs": [
    {
     "name": "stdout",
     "output_type": "stream",
     "text": [
      "    *\n",
      "   ***\n",
      "  *****\n",
      " *******\n",
      "*********\n"
     ]
    }
   ],
   "source": [
    "stars(5)"
   ]
  },
  {
   "cell_type": "code",
   "execution_count": 17,
   "id": "05af073f-2e30-47c7-9be6-b54ed294fa37",
   "metadata": {},
   "outputs": [],
   "source": [
    "def maths(i):\n",
    "    if i%5==0 and i%3==0:\n",
    "        print('wait')\n",
    "    elif i%5==0:\n",
    "        print('stop')\n",
    "    elif i%3==0:\n",
    "        print('go')\n",
    "    else:\n",
    "        print(i)"
   ]
  },
  {
   "cell_type": "code",
   "execution_count": 18,
   "id": "6dfe2b42-36c7-4972-b097-905078a97d31",
   "metadata": {},
   "outputs": [
    {
     "name": "stdout",
     "output_type": "stream",
     "text": [
      "8\n"
     ]
    }
   ],
   "source": [
    "maths(8)"
   ]
  },
  {
   "cell_type": "code",
   "execution_count": 19,
   "id": "81cab9b2-d42e-42d0-adbf-a84f0d275a84",
   "metadata": {},
   "outputs": [],
   "source": [
    "def maths(i):\n",
    "    messages = {\n",
    "        (True, True): 'wait',\n",
    "        (False, True): 'go',\n",
    "        (True, False): 'stop',\n",
    "    }\n",
    "    message = messages.get((i % 5 == 0, i % 3 == 0), i)\n",
    "    print(message)"
   ]
  },
  {
   "cell_type": "code",
   "execution_count": 20,
   "id": "54176596-189c-4afd-990e-287b05ceb6ac",
   "metadata": {},
   "outputs": [
    {
     "name": "stdout",
     "output_type": "stream",
     "text": [
      "7\n"
     ]
    }
   ],
   "source": [
    "maths(7)"
   ]
  },
  {
   "cell_type": "code",
   "execution_count": 21,
   "id": "a7a6f340-afae-4173-bb91-cd2069bf9c26",
   "metadata": {},
   "outputs": [],
   "source": [
    "def Add_Two_Nums(l1,l2):\n",
    "    rev_l1 = []\n",
    "    rev_l2 = []\n",
    "    for i in range(len(l1)):\n",
    "        rev_l1.append(l1[(i+1)*-1])\n",
    "    for i in range(len(l2)):\n",
    "        rev_l2.append(l2[(i+1)*-1])\n",
    "    return list(map(int, reversed(str(int(''.join([str(j) for j in rev_l1])) + int(''.join([str(j) for j in rev_l2]))))))"
   ]
  },
  {
   "cell_type": "code",
   "execution_count": 22,
   "id": "0dd5ad26-45c8-46b0-8509-c327861b24fc",
   "metadata": {},
   "outputs": [
    {
     "data": {
      "text/plain": [
       "[0, 0, 0, 1]"
      ]
     },
     "execution_count": 22,
     "metadata": {},
     "output_type": "execute_result"
    }
   ],
   "source": [
    "Add_Two_Nums([0,0,5],[0,0,5])"
   ]
  },
  {
   "cell_type": "code",
   "execution_count": 1,
   "id": "cd542df1-56fe-466b-9402-8d4677c6a46a",
   "metadata": {},
   "outputs": [],
   "source": [
    "def longeststring(s):\n",
    "    count = 0\n",
    "    for i in range(len(s)):\n",
    "        if s[i] not in s[i:]:\n",
    "            (count:=count+1)\n",
    "    return count"
   ]
  },
  {
   "cell_type": "code",
   "execution_count": 2,
   "id": "99aea72e-8839-4ec5-b5ae-ce2f36daf693",
   "metadata": {},
   "outputs": [
    {
     "data": {
      "text/plain": [
       "0"
      ]
     },
     "execution_count": 2,
     "metadata": {},
     "output_type": "execute_result"
    }
   ],
   "source": [
    "longeststring('qwertyuiop')"
   ]
  },
  {
   "cell_type": "code",
   "execution_count": 157,
   "id": "a0cdb060-3735-4a33-bd03-e27803ed05f9",
   "metadata": {},
   "outputs": [
    {
     "data": {
      "text/plain": [
       "['2', '0', '0', '1']"
      ]
     },
     "execution_count": 157,
     "metadata": {},
     "output_type": "execute_result"
    }
   ],
   "source": [
    "list(str(num))"
   ]
  },
  {
   "cell_type": "code",
   "execution_count": 199,
   "id": "96c4f51e-99b7-4623-bf1b-4d23a3754326",
   "metadata": {},
   "outputs": [],
   "source": [
    "def palandrome(num):\n",
    "    reversed_ = []\n",
    "    for i in range(len(list(str(num)))):\n",
    "        reversed_.append(list(str(num))[(i+1)*-1])\n",
    "    return reversed_ == list(str(num))"
   ]
  },
  {
   "cell_type": "code",
   "execution_count": 201,
   "id": "846a0699-dd1e-44df-9a6f-57c435bb82b7",
   "metadata": {},
   "outputs": [
    {
     "data": {
      "text/plain": [
       "True"
      ]
     },
     "execution_count": 201,
     "metadata": {},
     "output_type": "execute_result"
    }
   ],
   "source": [
    "palandrome(5005)"
   ]
  },
  {
   "cell_type": "code",
   "execution_count": 163,
   "id": "0d3b4ecf-c5c0-4be5-a241-0c4fe4ae6d04",
   "metadata": {},
   "outputs": [],
   "source": [
    "dict = {'I':1,'V':5,'X':10,'C':100,'D':500,'M':1000}"
   ]
  },
  {
   "cell_type": "code",
   "execution_count": null,
   "id": "0cb988ed-85ff-42c2-a7f1-c1205ccf53dd",
   "metadata": {},
   "outputs": [],
   "source": [
    "def roman_num(num):\n",
    "    dict = {'I':1,'V':5,'X':10,'C':100,'D':500,'M':1000}\n",
    "    number = 0\n",
    "    p_num = 0\n",
    "    \n",
    "    for i in num[::-1]:\n",
    "        if p_num>dict[i]:\n",
    "           (number:=number-dict[i])\n",
    "        else:\n",
    "           (number:=number+dict[i])\n",
    "        p_num = dict[i]\n",
    "    return number  "
   ]
  },
  {
   "cell_type": "code",
   "execution_count": null,
   "id": "7b571ba2-5e2d-4046-923e-9735e8e83048",
   "metadata": {},
   "outputs": [
    {
     "data": {
      "text/plain": [
       "1404"
      ]
     },
     "execution_count": 197,
     "metadata": {},
     "output_type": "execute_result"
    }
   ],
   "source": [
    "roman_num('MDCCCXXIV')"
   ]
  },
  {
   "cell_type": "code",
   "execution_count": 198,
   "id": "30b3570c-1b74-4983-9a9b-d277f2746a5a",
   "metadata": {},
   "outputs": [
    {
     "data": {
      "text/plain": [
       "[6, 5, 4]"
      ]
     },
     "execution_count": 198,
     "metadata": {},
     "output_type": "execute_result"
    }
   ],
   "source": [
    "list(map(int, reversed(str(456))))"
   ]
  },
  {
   "cell_type": "code",
   "execution_count": 194,
   "id": "012c5d02-bf2d-4b2f-a178-ca294ca0d6a9",
   "metadata": {},
   "outputs": [],
   "source": []
  },
  {
   "cell_type": "code",
   "execution_count": null,
   "id": "edbb5558-aa05-40b6-9a30-d9bbeec94696",
   "metadata": {},
   "outputs": [],
   "source": []
  }
 ],
 "metadata": {
  "kernelspec": {
   "display_name": "Python 3",
   "language": "python",
   "name": "python3"
  },
  "language_info": {
   "codemirror_mode": {
    "name": "ipython",
    "version": 3
   },
   "file_extension": ".py",
   "mimetype": "text/x-python",
   "name": "python",
   "nbconvert_exporter": "python",
   "pygments_lexer": "ipython3",
   "version": "3.9.7"
  }
 },
 "nbformat": 4,
 "nbformat_minor": 5
}
