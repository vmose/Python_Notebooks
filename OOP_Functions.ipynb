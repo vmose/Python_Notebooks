{
 "cells": [
  {
   "cell_type": "code",
   "execution_count": 1,
   "id": "bbd2a3b5-788e-44b4-92c8-61d95eae988e",
   "metadata": {},
   "outputs": [],
   "source": [
    "def variable(A):\n",
    "    a=0\n",
    "    while (a:=a+1) < max(A):\n",
    "        print(a)\n",
    "        \n",
    "variable([1,2,4,6,2])"
   ]
  },
  {
   "cell_type": "code",
   "execution_count": 2,
   "id": "1cc89d95-ac5e-4064-8a38-c444b3f7b8de",
   "metadata": {},
   "outputs": [],
   "source": [
    "def solution(A):\n",
    "    # Remove all negative integers and 0\n",
    "    A = list(filter(lambda x: x > 0, A))\n",
    "    \n",
    "    # If all numbers are negative or 0, return 1\n",
    "    if len(A) == 0:\n",
    "        return 1\n",
    "    \n",
    "    # Sort the list of positive integers\n",
    "    A.sort()\n",
    "    \n",
    "    # If the first positive integer is greater than 1, return 1\n",
    "    if A[0] > 1:\n",
    "        return 1\n",
    "    \n",
    "    # Find the smallest positive integer that does not occur in the sorted list\n",
    "    for i in range(len(A)-1):\n",
    "        if A[i+1] - A[i] > 1:\n",
    "            return A[i]+1\n",
    "    \n",
    "    # If all integers from 1 to the maximum in the list are present, return the next integer\n",
    "    return A[-1]+1"
   ]
  },
  {
   "cell_type": "code",
   "execution_count": 3,
   "id": "018a20c0-053b-419b-9e76-a1d487b14b29",
   "metadata": {},
   "outputs": [],
   "source": [
    "def wordplay(A, B):\n",
    "    output = ''\n",
    "    while A > 0 or B > 0:\n",
    "        if A > B:\n",
    "            if len(output) >= 2 and output[-2:] == 'aa':\n",
    "                output += 'b'\n",
    "                B -= 1\n",
    "            else:\n",
    "                output += 'a'\n",
    "                A -= 1\n",
    "        else:\n",
    "            if len(output) >= 2 and output[-2:] == 'bb':\n",
    "                output += 'a'\n",
    "                A -= 1\n",
    "            else:\n",
    "                output += 'b'\n",
    "                B -= 1\n",
    "    return output"
   ]
  },
  {
   "cell_type": "code",
   "execution_count": 4,
   "id": "48a4ec63-2cfd-493b-b003-be21b71cac92",
   "metadata": {},
   "outputs": [],
   "source": [
    "def solution(A):\n",
    "    list = set(x for x in A if x>0)\n",
    "\n",
    "    i=1\n",
    "    while i in list:\n",
    "        i+=1\n",
    "    return i"
   ]
  },
  {
   "cell_type": "code",
   "execution_count": 5,
   "id": "47d43f25-ebcb-4c13-8445-a883a9b5bf9a",
   "metadata": {},
   "outputs": [],
   "source": [
    "def worldplay(S):\n",
    "    # Initialize the count to 0\n",
    "    count = 0\n",
    "    \n",
    "    # Get the first and last characters of S\n",
    "    first_char = S[0]\n",
    "    last_char = S[-1]\n",
    "    \n",
    "    # Check if the first and last characters are the same\n",
    "    if first_char == last_char:\n",
    "        count += 1\n",
    "    \n",
    "    # Compute the number of times the first letter is the same as the last\n",
    "    for i in range(1, len(S)):\n",
    "        # Remove the first character of S and add it to the end\n",
    "        S = S[1:] + S[0]\n",
    "        \n",
    "        # Get the new last character of S\n",
    "        last_char = S[-1]\n",
    "        \n",
    "        # Check if the first and last characters are the same\n",
    "        if first_char == last_char:\n",
    "            count += 1\n",
    "    \n",
    "    return count"
   ]
  },
  {
   "cell_type": "code",
   "execution_count": null,
   "id": "5b309f02-35bd-4d9b-9970-0fcc49688d01",
   "metadata": {},
   "outputs": [],
   "source": [
    "def wordplay2(S):\n",
    "    # Concatenate the input string with itself\n",
    "    S = S + S\n",
    "    count = 0\n",
    "    for i in range(len(S)-1):\n",
    "        # Check if the first and last characters of the current substring are the same\n",
    "        if S[i] == S[i+1]:\n",
    "            count += 1\n",
    "    return count"
   ]
  }
 ],
 "metadata": {
  "kernelspec": {
   "display_name": "Python 3",
   "language": "python",
   "name": "python3"
  },
  "language_info": {
   "codemirror_mode": {
    "name": "ipython",
    "version": 3
   },
   "file_extension": ".py",
   "mimetype": "text/x-python",
   "name": "python",
   "nbconvert_exporter": "python",
   "pygments_lexer": "ipython3",
   "version": "3.9.7"
  }
 },
 "nbformat": 4,
 "nbformat_minor": 5
}
