{
 "cells": [
  {
   "cell_type": "code",
   "execution_count": 1,
   "id": "d9b6251c-306f-4cc8-9787-d61a21d1b193",
   "metadata": {},
   "outputs": [],
   "source": [
    "#use pip install pytube on your console to get the pytube package\n",
    "#importing pytube\n",
    "\n",
    "import pytube\n",
    "from pytube import YouTube"
   ]
  },
  {
   "cell_type": "code",
   "execution_count": 2,
   "id": "32475999-2f89-4f2f-8d30-a589989b8d1c",
   "metadata": {},
   "outputs": [
    {
     "name": "stdin",
     "output_type": "stream",
     "text": [
      "Enter video URL https://youtu.be/2AlGJD9nrZI\n"
     ]
    },
    {
     "data": {
      "text/plain": [
       "'F:Report Designer Intro.mp4'"
      ]
     },
     "execution_count": 2,
     "metadata": {},
     "output_type": "execute_result"
    }
   ],
   "source": [
    "#defining the dialogue box where you input the url.\n",
    "url=input('Enter video URL')\n",
    "\n",
    "#defining the path where the download is stored\n",
    "path= 'F:'\n",
    "\n",
    "#the one line code that executes the download\n",
    "pytube.YouTube(url).streams.get_highest_resolution().download(path)"
   ]
  },
  {
   "cell_type": "code",
   "execution_count": null,
   "id": "d4ea3a24-309a-4315-8385-60cc7b36a748",
   "metadata": {},
   "outputs": [],
   "source": []
  }
 ],
 "metadata": {
  "kernelspec": {
   "display_name": "Python 3",
   "language": "python",
   "name": "python3"
  },
  "language_info": {
   "codemirror_mode": {
    "name": "ipython",
    "version": 3
   },
   "file_extension": ".py",
   "mimetype": "text/x-python",
   "name": "python",
   "nbconvert_exporter": "python",
   "pygments_lexer": "ipython3",
   "version": "3.9.7"
  }
 },
 "nbformat": 4,
 "nbformat_minor": 5
}
